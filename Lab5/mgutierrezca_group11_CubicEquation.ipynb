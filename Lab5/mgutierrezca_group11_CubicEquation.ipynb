{
  "cells": [
    {
      "cell_type": "markdown",
      "metadata": {
        "colab_type": "text",
        "id": "view-in-github"
      },
      "source": [
        "<a href=\"https://colab.research.google.com/github/SebZurdo/MetNumUN2023II/blob/main/Lab5/sescandon_group11_CubicEquation.ipynb\" target=\"_parent\"><img src=\"https://colab.research.google.com/assets/colab-badge.svg\" alt=\"Open In Colab\"/></a>"
      ]
    },
    {
      "cell_type": "markdown",
      "metadata": {
        "id": "q5PfhUy3iXZi"
      },
      "source": [
        "Modify [week_1_quadratic_Po_Shen_Loh.ipyn](https://colab.research.google.com/drive/15vXGB18_np6o0Rw8ZV4o08RTdCdDIdT0?usp=sharing) for\n",
        "\n",
        "$$ ax^3+bx^+cx +d = 0$$\n",
        "\n",
        "using Cubic equation – Cardano–Tartaglia formula- [wikipedia](https://en.wikipedia.org/wiki/Cubic_equation)\n",
        "\n",
        "Asuume $a=1$ then work wequations are of the form\n",
        "\n",
        "$$ x^3+bx^+cx +d = 0$$\n",
        "\n",
        "Including expalnataions. plots, solution code and test cases\n",
        "\n"
      ]
    },
    {
      "cell_type": "code",
      "execution_count": 17,
      "metadata": {
        "colab": {
          "base_uri": "https://localhost:8080/",
          "height": 430
        },
        "id": "pWSO-iEFP7wL",
        "outputId": "5d9bd6bd-f228-47b4-f334-1e5a9765dc76"
      },
      "outputs": [
        {
          "data": {
            "image/png": "[encoded data removed]",
            "text/plain": [
              "<Figure size 640x480 with 1 Axes>"
            ]
          },
          "metadata": {},
          "output_type": "display_data"
        }
      ],
      "source": [
        "import numpy as np\n",
        "import matplotlib.pyplot as plt\n",
        "from numpy import allclose\n",
        "def cubic(b,c,d,x):\n",
        "    \"\"\"Calulate the value of the  qubic equation, v = x**3 + bx**2 + c*x +d\n",
        "\n",
        "    Parameters\n",
        "    ----------\n",
        "    b, c, d  : float\n",
        "       Coefficients\n",
        "\n",
        "    Returns\n",
        "    -------\n",
        "    v : float \"\"\"\n",
        "\n",
        "    # ... enter your code here ...\n",
        "    v = x**3+b*x**2+c*x+d\n",
        "    return v\n",
        "x = np.linspace(-4,2, 5500)\n",
        "y = cubic(2,3,-2,x)\n",
        "y2 = cubic(5,3,9,x)\n",
        "y3 = cubic(1,1,1,x)\n",
        "plt.plot(x, y, color=\"green\")\n",
        "plt.plot(x, y2, color=\"red\")\n",
        "plt.plot(x, y3, color=\"blue\")\n",
        "plt.show()"
      ]
    },
    {
      "cell_type": "code",
      "execution_count": 11,
      "metadata": {
        "id": "o99NfjpaiThf"
      },
      "outputs": [],
      "source": [
        "import math\n",
        "import cmath\n",
        "\n",
        "def cubic_root(n):\n",
        "    return n**(1/3)\n",
        "\n",
        "def solve_cubic(b, c,d):\n",
        "    \"\"\"Solve a cubic equation, x**3 + bx**2 + c*x +d = 0.\n",
        "\n",
        "    Parameters\n",
        "    ----------\n",
        "    b, c,d : float\n",
        "       Coefficients\n",
        "\n",
        "    Returns\n",
        "    -------\n",
        "    x1, x2,x3 : float or complex\n",
        "       Roots.  \"\"\"\n",
        "\n",
        "    # ... enter your code here ...\n",
        "\n",
        "    t0 = (b**2) - 3*c\n",
        "    t1 = (2* (b**3)) - (9*b*c) + 27*d\n",
        "\n",
        "    insideR = (t1**2) - 4 * (t0**3)\n",
        "\n",
        "    if insideR < 0:\n",
        "        C = cubic_root((t1 + cmath.sqrt(insideR)) / 2)\n",
        "    else:\n",
        "        C = cubic_root((t1 + math.sqrt(insideR)) / 2)\n",
        "\n",
        "    if C == 0:\n",
        "        if insideR < 0:\n",
        "            C = cubic_root((t1 - cmath.sqrt(insideR)) / 2)\n",
        "        else:\n",
        "            C = cubic_root((t1 - math.sqrt(insideR)) / 2)\n",
        "\n",
        "    if C == 0:\n",
        "        t3 = 0\n",
        "    else:\n",
        "        t3 = t0 / C\n",
        "\n",
        "    factor = (-1 + cmath.sqrt(-3)) / 2\n",
        "\n",
        "    x1 = -((b + C + t3)/3)\n",
        "\n",
        "    if t3 == 0:\n",
        "      x2 = x1\n",
        "      x3 = x1\n",
        "    else:\n",
        "      x2 =  -((b + ((factor**1)*C) + (t3/factor**1))/3)\n",
        "      x3 =  -((b + ((factor**2)*C) + (t3/factor**2))/3)\n",
        "\n",
        "\n",
        "    return x1, x2, x3"
      ]
    },
    {
      "cell_type": "markdown",
      "metadata": {
        "id": "BpvJhj5Zl2lI"
      },
      "source": [
        "Bulit test cases that include\n",
        "\n",
        "$$(x-1) \\left( x + \\frac{1}{2} + i \\frac{\\sqrt{3}}{2}\\right) \\left( x + \\frac{1}{2} - i \\frac{\\sqrt{3}}{2}\\right) =   x^3 -1 =  0  $$\n",
        "\n",
        "$$(x-1)^3 = x^3 - 3 x^2 + 3 x - 1 = 0 $$\n",
        "\n",
        "$$(x-1)(x-i)(x+i) = x^3 - x^2 + x - 1 = 0 $$\n",
        "\n",
        "$$ (x+2)^2 (x-1) = x^3 + 3 x^2 - 4 = 0  $$\n",
        "three real diferent roots,  roots in the last digits of the group members, root of mtiuplicity two, and complex roots with small and large $b$.\n",
        "\n",
        "\n",
        "## **Explicación**\n",
        "\n",
        "El método de Cardano, una técnica algebraica clásica, ha sido adaptado al entorno de programación Python para resolver ecuaciones cúbicas de la forma \\(x^3 + bx^2 + cx + d = 0\\). Este enfoque moderno combina la potencia del cálculo computacional con la elegancia del álgebra clásica.\n",
        "\n",
        "## Bibliotecas Utilizadas\n",
        "\n",
        "En la implementación, se utilizan las bibliotecas `math` y `cmath` de Python para manejar operaciones matemáticas tanto en números reales como complejos.\n",
        "\n",
        "## Algoritmo\n",
        "\n",
        "El algoritmo sigue los pasos algebraicos del método de Cardano, que incluyen la evaluación de discriminantes y la manipulación de raíces cúbicas. Se abordan casos específicos donde el discriminante puede ser menor o igual a cero, lo que resulta en raíces reales o complejas.\n",
        "\n",
        "### Cálculo de Términos\n",
        "\n",
        "El código comienza calculando dos términos, \\( t0 \\) y \\( t1 \\), que son funciones de los coeficientes \\( b \\), \\( c \\), y \\( d \\). Estos términos se usan para determinar un valor llamado \\( \\text{insideR} \\), que a su vez se utiliza para calcular un valor \\( C \\) mediante la raíz cúbica. Este valor \\( C \\) es crucial para encontrar las raíces de la ecuación cúbica.\n",
        "\n",
        "### Casos Especiales\n",
        "\n",
        "Si \\( C \\) resulta ser cero, se toman medidas adicionales para calcularlo de nuevo y evitar divisiones por cero.\n",
        "\n",
        "## Conclusiones\n",
        "\n",
        "Finalmente, se utilizan estos valores para encontrar las raíces \\( x1, x2, x3 \\) de la ecuación cúbica original. Esta implementación en Python no solo permite resolver ecuaciones cúbicas de manera eficiente sino que también maneja casos especiales, asegurando así una solución completa y robusta.\n",
        "\n",
        "**Last digits:**\n",
        "**Sebastián Escandón (7),Camilo Trujillo(4),Mateo Gutierrez(8)**"
      ]
    },
    {
      "cell_type": "markdown",
      "metadata": {
        "id": "0s01RrfqmE_f"
      },
      "source": [
        " Publisth the notebook in as **pperezp_groupN_CubicEquation.ipynb** at **MetNumUN2023II/Lab5** and submit only the code of **solve_cubic(b, c,d)** in UNcode Quiz Cubic Equation."
      ]
    },
    {
      "cell_type": "code",
      "execution_count": 18,
      "metadata": {
        "colab": {
          "base_uri": "https://localhost:8080/"
        },
        "id": "Tgqd8OIGO6rb",
        "outputId": "ad77916b-2c92-433c-f4e1-cb0f7590fa1a"
      },
      "outputs": [
        {
          "name": "stdout",
          "output_type": "stream",
          "text": [
            "x^3 \n",
            "Roots:  -0.0 -0.0 -0.0\n",
            "True\n",
            "x^3 -3.0x^2 + 3.0x -1.0 \n",
            "Roots:  1.0 1.0 1.0\n",
            "True\n",
            "x^3 -1.0x^2 + 1.0x -1.0 \n",
            "Roots:  0.9999999999999996 (7.401486830834377e-17-0.9999999999999999j) (2.9605947323337506e-16+0.9999999999999999j)\n",
            "True\n",
            "x^3 + 3.0x^2 -4.0 \n",
            "Roots:  (-2-1.4802973661668753e-16j) (1-9.9161120955583e-18j) (-2+1.4802973661668753e-16j)\n",
            "True\n",
            "x^3 + 1.0x^2 + 3.0x -4.0 \n",
            "Roots:  0.8663697595003761 (-0.9331848797501882-1.9354927795997436j) (-0.933184879750188+1.9354927795997436j)\n",
            "True\n",
            "x^3 -8.0x^2 -5.0x -3.0 \n",
            "Roots:  (-0.3101954495563035+0.5017876479918119j) (8.620390899112605-3.96644483822332e-17j) (-0.31019544955630235-0.5017876479918124j)\n",
            "True\n",
            "x^3 -1.0 \n",
            "Roots:  (-0.5000000000000001-0.8660254037844387j) (-0.5000000000000001-0.8660254037844387j) (-0.5000000000000001-0.8660254037844387j)\n",
            "True\n",
            "x^3 + 7x^2 + 4x + 8\n",
            "Roots:  -6.5767524796563395 (-0.21162376017182968-1.0824145255872055j) (-0.21162376017183027+1.0824145255872055j)\n",
            "True\n",
            "x^3 + 100000000.0x^2 + 2.0x + 1.0\n",
            "Roots:  (-99999999.99999999+3.1456319031046104e-16j) (0.2451449086268743+5.960464477539063e-08j) (-0.2451449284950892-6.457169850667317e-08j)\n",
            "False\n"
          ]
        }
      ],
      "source": [
        "variants = [{'b': 0.0, 'c': 0.0, 'd': 0.0},\n",
        "            {'b': -3.0, 'c': 3.0, 'd':-1.0},\n",
        "            {'b': -1.0, 'c': 1.0, 'd':-1.0},\n",
        "            {'b': 3.0, 'c': 0.0, 'd':-4.0},\n",
        "            {'b': 1.0, 'c': 3.0, 'd':-4.0},\n",
        "            {'b': -8.0, 'c': -5.0, 'd':-3.0},\n",
        "            {'b': 0.0, 'c': 0.0, 'd':-1.0},\n",
        "            {'b': 7, 'c': 4, 'd':8},  #Last digits\n",
        "            {'b': 100000000.0, 'c': 2.0, 'd':1.0},]\n",
        "\n",
        "for var in variants:\n",
        "    b,c,d = var['b'], var['c'], var['d']\n",
        "    eq = \"\"\n",
        "    eq += \"x^3 \"\n",
        "    if (b > 0):\n",
        "      eq += \"+ {}x^2 \".format(b)\n",
        "    elif (b<0):\n",
        "      eq += \"{}x^2 \".format(b)\n",
        "    if (c > 0):\n",
        "      eq += \"+ {}x \".format(c)\n",
        "    elif (c<0):\n",
        "      eq += \"{}x \".format(c)\n",
        "    if (d > 0):\n",
        "      eq += \"+ {}\".format(d)\n",
        "    elif (d<0):\n",
        "      eq += \"{} \".format(d)\n",
        "\n",
        "    print(eq)\n",
        "\n",
        "    x1, x2, x3= solve_cubic(**var)\n",
        "    print(\"Roots: \", x1, x2, x3)\n",
        "    print(allclose(cubic(var['b'],var['c'],var['d'],x1), 0.0) and allclose(cubic(var['b'],var['c'],var['d'],x2), 0.0) and  allclose(cubic(var['b'],var['c'],var['d'],x3), 0.0))"
      ]
    }
  ],
  "metadata": {
    "colab": {
      "include_colab_link": true,
      "provenance": []
    },
    "kernelspec": {
      "display_name": "Python 3",
      "name": "python3"
    },
    "language_info": {
      "codemirror_mode": {
        "name": "ipython",
        "version": 3
      },
      "file_extension": ".py",
      "mimetype": "text/x-python",
      "name": "python",
      "nbconvert_exporter": "python",
      "pygments_lexer": "ipython3",
      "version": "3.10.12"
    }
  },
  "nbformat": 4,
  "nbformat_minor": 0
}
